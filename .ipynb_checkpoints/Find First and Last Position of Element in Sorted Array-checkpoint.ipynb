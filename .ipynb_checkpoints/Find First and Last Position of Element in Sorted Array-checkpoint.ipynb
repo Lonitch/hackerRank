{
 "cells": [
  {
   "cell_type": "markdown",
   "metadata": {},
   "source": [
    "Given an array of integers nums sorted in ascending order, find the starting and ending position of a given target value.\n",
    "\n",
    "Your algorithm's runtime complexity must be in the order of `O(log n)`.\n",
    "\n",
    "If the target is not found in the array, return `[-1, -1]`.\n",
    "\n",
    "    Example 1:\n",
    "    Input: nums = [5,7,7,8,8,10], target = 8\n",
    "    Output: [3,4]"
   ]
  },
  {
   "cell_type": "code",
   "execution_count": 27,
   "metadata": {},
   "outputs": [],
   "source": [
    "def searchRange(nums, target):\n",
    "    if target not in nums:\n",
    "        return [-1,-1]\n",
    "    l = 0\n",
    "    r = len(nums)-1\n",
    "    def binarySearch(arr,left,right,x):\n",
    "        if left<=right:\n",
    "            mid = left+ (right-left)//2\n",
    "            if arr[mid]==x:\n",
    "                return mid\n",
    "            elif arr[mid]<x:\n",
    "                return binarySearch(arr,mid+1,right,x)\n",
    "            elif arr[mid]>x:\n",
    "                return binarySearch(arr,left,mid-1,x)\n",
    "        else:\n",
    "            return left\n",
    "    fst = binarySearch(nums,l,r,target-1)\n",
    "    sec = binarySearch(nums,l,r,target+1)\n",
    "    \n",
    "    while fst<0 or nums[fst]<target:\n",
    "        fst+=1\n",
    "    while sec>r or nums[sec]>target:\n",
    "        sec-=1\n",
    "    return [fst, sec]"
   ]
  },
  {
   "cell_type": "code",
   "execution_count": 28,
   "metadata": {},
   "outputs": [
    {
     "data": {
      "text/plain": [
       "[3, 4]"
      ]
     },
     "execution_count": 28,
     "metadata": {},
     "output_type": "execute_result"
    }
   ],
   "source": [
    "t = [5,7,7,8,8,10]\n",
    "searchRange(t,8)"
   ]
  },
  {
   "cell_type": "code",
   "execution_count": 32,
   "metadata": {},
   "outputs": [
    {
     "data": {
      "text/plain": [
       "[12, 12]"
      ]
     },
     "execution_count": 32,
     "metadata": {},
     "output_type": "execute_result"
    }
   ],
   "source": [
    "t = [5,6,6,6,6,7,8,8,9,9,9,9,10]\n",
    "searchRange(t,10)"
   ]
  },
  {
   "cell_type": "markdown",
   "metadata": {},
   "source": [
    "Runtime: 92 ms, faster than 95.04% of Python3 online submissions for Find First and Last Position of Element in Sorted Array.\n",
    "\n",
    "Memory Usage: 14 MB, less than 10.71% of Python3 online submissions for Find First and Last Position of Element in Sorted Array."
   ]
  }
 ],
 "metadata": {
  "kernelspec": {
   "display_name": "Python 3",
   "language": "python",
   "name": "python3"
  },
  "language_info": {
   "codemirror_mode": {
    "name": "ipython",
    "version": 3
   },
   "file_extension": ".py",
   "mimetype": "text/x-python",
   "name": "python",
   "nbconvert_exporter": "python",
   "pygments_lexer": "ipython3",
   "version": "3.7.4"
  }
 },
 "nbformat": 4,
 "nbformat_minor": 2
}
