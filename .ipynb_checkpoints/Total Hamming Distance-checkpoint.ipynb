{
 "cells": [
  {
   "cell_type": "markdown",
   "metadata": {},
   "source": [
    "The Hamming distance between two integers is the number of positions at which the corresponding bits are different.\n",
    "\n",
    "Now your job is to find the total Hamming distance between all pairs of the given numbers.\n",
    "\n",
    "Example:\n",
    "\n",
    "    Input: 4, 14, 2\n",
    "\n",
    "    Output: 6\n",
    "\n",
    "    Explanation: In binary representation, the 4 is 0100, 14 is 1110, and 2 is 0010 (just\n",
    "    showing the four bits relevant in this case). So the answer will be:\n",
    "    HammingDistance(4, 14) + HammingDistance(4, 2) + HammingDistance(14, 2) = 2 + 2 + 2 = 6."
   ]
  },
  {
   "cell_type": "code",
   "execution_count": 17,
   "metadata": {},
   "outputs": [],
   "source": [
    "# The total Hamming distance is the sum of (number of '1')*(number of '0') at each bit location\n",
    "from collections import defaultdict\n",
    "\n",
    "def totalHammingDistance(nums):\n",
    "    ones=defaultdict(int)\n",
    "    zeros=defaultdict(int)\n",
    "    maxlen = 30\n",
    "    for n in nums:\n",
    "        temp = bin(n)[2:]\n",
    "        temp = '0'*(30-len(temp))+temp\n",
    "        for i in range(maxlen):\n",
    "            if temp[i]=='1':\n",
    "                ones[i]+=1\n",
    "            else:\n",
    "                zeros[i]+=1\n",
    "    ans = 0\n",
    "    for i in range(maxlen):\n",
    "        ans+=ones[i]*zeros[i]\n",
    "    return ans"
   ]
  },
  {
   "cell_type": "code",
   "execution_count": 18,
   "metadata": {},
   "outputs": [
    {
     "data": {
      "text/plain": [
       "6"
      ]
     },
     "execution_count": 18,
     "metadata": {},
     "output_type": "execute_result"
    }
   ],
   "source": [
    "totalHammingDistance([4,14,2])"
   ]
  },
  {
   "cell_type": "markdown",
   "metadata": {},
   "source": [
    "Runtime: 632 ms, faster than 40.90% of Python3 online submissions for Total Hamming Distance.\n",
    "\n",
    "Memory Usage: 14.1 MB, less than 83.33% of Python3 online submissions for Total Hamming Distance."
   ]
  },
  {
   "cell_type": "code",
   "execution_count": 30,
   "metadata": {},
   "outputs": [],
   "source": [
    "# Try to solve the problem using shifted digits\n",
    "def totalHammingDistance2(nums):\n",
    "    n = len(nums)\n",
    "    ans = 0\n",
    "    for i in range(32):\n",
    "        count = 0\n",
    "        for a in nums:\n",
    "            if (a&(1<<i)): count+=1 # if the ith digit of the number is 1, then increment 'count'\n",
    "        ans+= count*(n-count)\n",
    "    return ans\n",
    "    "
   ]
  },
  {
   "cell_type": "code",
   "execution_count": 31,
   "metadata": {},
   "outputs": [
    {
     "data": {
      "text/plain": [
       "6"
      ]
     },
     "execution_count": 31,
     "metadata": {},
     "output_type": "execute_result"
    }
   ],
   "source": [
    "totalHammingDistance2([4,14,2])"
   ]
  },
  {
   "cell_type": "markdown",
   "metadata": {},
   "source": [
    "Runtime: 508 ms, faster than 71.82% of Python3 online submissions for Total Hamming Distance.\n",
    "    \n",
    "Memory Usage: 14.1 MB, less than 83.33% of Python3 online submissions for Total Hamming Distance."
   ]
  }
 ],
 "metadata": {
  "kernelspec": {
   "display_name": "Python 3",
   "language": "python",
   "name": "python3"
  },
  "language_info": {
   "codemirror_mode": {
    "name": "ipython",
    "version": 3
   },
   "file_extension": ".py",
   "mimetype": "text/x-python",
   "name": "python",
   "nbconvert_exporter": "python",
   "pygments_lexer": "ipython3",
   "version": "3.7.4"
  }
 },
 "nbformat": 4,
 "nbformat_minor": 2
}
