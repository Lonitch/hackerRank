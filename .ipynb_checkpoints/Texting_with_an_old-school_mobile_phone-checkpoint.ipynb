{
 "cells": [
  {
   "cell_type": "markdown",
   "metadata": {},
   "source": [
    "    -------------------------\n",
    "    |   1   |   2   |   3   |  <-- hold a key to type a number\n",
    "    |  .,?! |  abc  |  def  |  <-- press a key to type a letter\n",
    "    -------------------------\n",
    "    |   4   |   5   |   6   |  <-- Top row\n",
    "    |  ghi  |  jkl  |  mno  |  <-- Bottom row\n",
    "    -------------------------\n",
    "    |   7   |   8   |   9   |\n",
    "    |  pqrs |  tuv  |  wxyz |\n",
    "    -------------------------\n",
    "    |   *   |   0   |   #   |  <-- hold for *, 0 or #\n",
    "    |  '-+= | space |  case |  <-- press # to switch between upper/lower case\n",
    "    -------------------------\n",
    "\n",
    "you'll receive a message and your job is to figure out which keys you need to press to output the given message with the lowest number of clicks possible. Return the result as a string of key inputs from top row (refer to diagram above).\n",
    "\n",
    "#### Typing letters\n",
    "\n",
    "To type letters, press a button repeatedly to cycle through the possible characters (bottom row of a key's layout). Pressing is represented by key's top row element repeated n times, where n is the position of character on that particular key. Examples:\n",
    "\n",
    "    2 => 'a', 9999 => 'z', 111 => '?', *** => '+'\n",
    "\n",
    "#### Typing numbers\n",
    "\n",
    "To type numbers 0-9 and special characters *# - hold that key. Holding is respresented by a number, followed by a dash. Examples:\n",
    "\n",
    "    3- => '3', 5-5-5- => '555'\n",
    "\n",
    "#### Uppercase / Lowercase\n",
    "\n",
    "Initially the case is lowercase. To toggle between lowercase and uppercase letters, use the # symbol.\n",
    "\n",
    "#### Waiting for next character\n",
    "\n",
    "If you have 2 or more characters in a sequence that reside on the same button (refer to layout, bottom row), you have to wait before pressing the same button again. Waiting is represented by adding a space between 2 (or more) such characters. Example:\n",
    "\n",
    "    44 444 44 444 => 'hihi'\n",
    "\n",
    "Exceptions: No need to wait after holding any key, even if next character resides on same button (4-4 => '4g'), or if there's a case switch between 2 characters on same button (#5#55 => 'Jk')."
   ]
  },
  {
   "cell_type": "code",
   "execution_count": 40,
   "metadata": {},
   "outputs": [],
   "source": [
    "def send_message(message):\n",
    "    cdict = {\n",
    "        \"1\":\"1-\", \".\":1, \",\":11, \"?\":111, \"!\":1111,\n",
    "        \"2\":\"2-\", \"a\":2, \"b\":22, \"c\":222,\n",
    "        \"3\":\"3-\", \"d\":3, \"e\":33, \"f\":333,\n",
    "        \"4\":\"4-\", \"g\":4, \"h\":44, \"i\":444,\n",
    "        \"5\":\"5-\", \"j\":5, \"k\":55, \"l\":555,\n",
    "        \"6\":\"6-\", \"m\":6, \"n\":66, \"o\":666,\n",
    "        \"7\":\"7-\", \"p\":7, \"q\":77, \"r\":777, \"s\":7777,\n",
    "        \"8\":\"8-\", \"t\":8, \"u\":88, \"v\":888,\n",
    "        \"9\":\"9-\", \"w\":9, \"x\":99, \"y\":999, \"z\":9999,\n",
    "        \"*\":\"*-\", \"-\":\"**\", \"+\":\"***\", \"=\":\"****\", \"'\":\"*\",\n",
    "        \"0\":\"0-\", \" \":0,\n",
    "        \"#\":\"#-\"\n",
    "            }\n",
    "    res = '@'\n",
    "    upflg = False\n",
    "    for i in range(len(message)):\n",
    "        if 48<=ord(message[i])<=57: #0-9\n",
    "            if res[-1]==cdict[message[i]][0]:\n",
    "                res+=\" \"+cdict[message[i]]\n",
    "            else:\n",
    "                res+=cdict[message[i]]\n",
    "        elif 97<=ord(message[i])<=122: #a-z\n",
    "            if upflg: \n",
    "                res+=\"#\"\n",
    "                upflg=False\n",
    "            if res[-1]==str(cdict[message[i]])[0]:\n",
    "                res+=\" \"+str(cdict[message[i]])\n",
    "            else:\n",
    "                res+=str(cdict[message[i]])\n",
    "        elif 65<=ord(message[i])<=90: # A-Z\n",
    "            if not upflg:\n",
    "                upflg = True\n",
    "                if res[-1]!=\"#\":\n",
    "                    res+=\"#\"\n",
    "                else:\n",
    "                    res+=\" #\"\n",
    "            if res[-1]!=str(cdict[message[i].lower()])[0]:\n",
    "                res+=str(cdict[message[i].lower()])\n",
    "            else:\n",
    "                res+=\" \"+str(cdict[message[i].lower()])\n",
    "            \n",
    "        else:\n",
    "            if res[-1]!=str(cdict[message[i]])[0]:\n",
    "                res+=str(cdict[message[i]])\n",
    "            else:\n",
    "                res+=\" \"+str(cdict[message[i]])\n",
    "\n",
    "    return res[1:]"
   ]
  },
  {
   "cell_type": "code",
   "execution_count": 42,
   "metadata": {},
   "outputs": [
    {
     "data": {
      "text/plain": [
       "'6 666 6110#444*#555 55502233044666 63302299909-110#4440#7 777666 64447777331111 1111 1111'"
      ]
     },
     "execution_count": 42,
     "metadata": {},
     "output_type": "execute_result"
    }
   ],
   "source": [
    "send_message(\"mom, I'll be home by 9, I promise!!!\")"
   ]
  }
 ],
 "metadata": {
  "kernelspec": {
   "display_name": "Python 3",
   "language": "python",
   "name": "python3"
  },
  "language_info": {
   "codemirror_mode": {
    "name": "ipython",
    "version": 3
   },
   "file_extension": ".py",
   "mimetype": "text/x-python",
   "name": "python",
   "nbconvert_exporter": "python",
   "pygments_lexer": "ipython3",
   "version": "3.7.4"
  }
 },
 "nbformat": 4,
 "nbformat_minor": 2
}
