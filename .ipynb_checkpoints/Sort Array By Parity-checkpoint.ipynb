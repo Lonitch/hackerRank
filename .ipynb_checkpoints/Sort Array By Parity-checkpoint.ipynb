{
 "cells": [
  {
   "cell_type": "markdown",
   "metadata": {},
   "source": [
    "Given an array A of non-negative integers, return an array consisting of all the even elements of A, followed by all the odd elements of A.\n",
    "\n",
    "You may return any answer array that satisfies this condition.\n",
    "\n",
    "    Input: [3,1,2,4]\n",
    "    Output: [2,4,3,1]\n",
    "    The outputs [4,2,3,1], [2,4,1,3], and [4,2,1,3] would also be accepted."
   ]
  },
  {
   "cell_type": "code",
   "execution_count": 3,
   "metadata": {},
   "outputs": [],
   "source": [
    "def sortArrayByParity(A):\n",
    "    even = []\n",
    "    old = []\n",
    "    for i in A:\n",
    "        if i%2!=0:\n",
    "            old.append(i)\n",
    "        else:\n",
    "            even.append(i)\n",
    "    return even+old"
   ]
  },
  {
   "cell_type": "code",
   "execution_count": 4,
   "metadata": {},
   "outputs": [
    {
     "data": {
      "text/plain": [
       "[2, 4, 3, 1]"
      ]
     },
     "execution_count": 4,
     "metadata": {},
     "output_type": "execute_result"
    }
   ],
   "source": [
    "t = [3,1,2,4]\n",
    "sortArrayByParity(t)"
   ]
  },
  {
   "cell_type": "markdown",
   "metadata": {},
   "source": [
    "Runtime: 100 ms, faster than 30.81% of Python3 online submissions for Sort Array By Parity.\n",
    "Memory Usage: 14.6 MB, less than 5.19% of Python3 online submissions for Sort Array By Parity."
   ]
  },
  {
   "cell_type": "code",
   "execution_count": 5,
   "metadata": {},
   "outputs": [],
   "source": [
    "# The method above is too slow, let's improve it\n",
    "def sortArrayByParity(A):\n",
    "    return ([x for x in A if x % 2 == 0] +\n",
    "                [x for x in A if x % 2 == 1])"
   ]
  },
  {
   "cell_type": "code",
   "execution_count": 6,
   "metadata": {},
   "outputs": [
    {
     "data": {
      "text/plain": [
       "[2, 4, 3, 1]"
      ]
     },
     "execution_count": 6,
     "metadata": {},
     "output_type": "execute_result"
    }
   ],
   "source": [
    "sortArrayByParity(t)"
   ]
  },
  {
   "cell_type": "markdown",
   "metadata": {},
   "source": [
    "Runtime: 88 ms, faster than 95.93% of Python3 online submissions for Sort Array By Parity.\n",
    "Memory Usage: 14.7 MB, less than 5.19% of Python3 online submissions for Sort Array By Parity."
   ]
  }
 ],
 "metadata": {
  "kernelspec": {
   "display_name": "Python 3",
   "language": "python",
   "name": "python3"
  },
  "language_info": {
   "codemirror_mode": {
    "name": "ipython",
    "version": 3
   },
   "file_extension": ".py",
   "mimetype": "text/x-python",
   "name": "python",
   "nbconvert_exporter": "python",
   "pygments_lexer": "ipython3",
   "version": "3.7.4"
  }
 },
 "nbformat": 4,
 "nbformat_minor": 2
}
