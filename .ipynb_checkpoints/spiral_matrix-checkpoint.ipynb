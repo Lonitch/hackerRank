{
 "cells": [
  {
   "cell_type": "markdown",
   "metadata": {},
   "source": [
    "**Given a matrix of m x n elements (m rows, n columns), return all elements of the matrix in spiral order.**\n",
    "\n",
    "Example 1:\n",
    "\n",
    "Input:\n",
    "[\n",
    " [ 1, 2, 3 ],\n",
    " [ 4, 5, 6 ],\n",
    " [ 7, 8, 9 ]\n",
    "]\n",
    "Output: [1,2,3,6,9,8,7,4,5]\n"
   ]
  },
  {
   "cell_type": "code",
   "execution_count": 57,
   "metadata": {},
   "outputs": [],
   "source": [
    "matrix = [\n",
    " [ 1, 2, 3 ],\n",
    " [ 4, 5, 6 ],\n",
    " [ 7, 8, 9 ]\n",
    "]\n",
    "\n",
    "def spiralOrder(matrix):\n",
    "        if not matrix or not hasattr(matrix[0],'__len__'):\n",
    "            return matrix\n",
    "        m = len(matrix)\n",
    "        n = len(matrix[0])\n",
    "        path = [n]\n",
    "        for i in range(1,min(m,n)):\n",
    "            path.append(m-i)\n",
    "            path.append(n-i)\n",
    "        if sum(path)<m*n:\n",
    "            path.append(m*n-sum(path))\n",
    "        d = [(0,1),(1,0),(0,-1),(-1,0)]\n",
    "        res = []\n",
    "        p = 0\n",
    "        x = 0\n",
    "        y = 0\n",
    "        path[0]-=1\n",
    "        res.append(matrix[0][0])\n",
    "        for t in path:\n",
    "            for j in range(t):\n",
    "                x+=d[p][0]\n",
    "                y+=d[p][1]\n",
    "                res.append(matrix[x][y])\n",
    "\n",
    "            p+=1\n",
    "            if p>3: \n",
    "                p=0\n",
    "        return res"
   ]
  },
  {
   "cell_type": "code",
   "execution_count": 58,
   "metadata": {},
   "outputs": [],
   "source": [
    "result = spiralOrder(matrix)"
   ]
  },
  {
   "cell_type": "code",
   "execution_count": 59,
   "metadata": {},
   "outputs": [
    {
     "data": {
      "text/plain": [
       "[1, 2, 3, 6, 9, 8, 7, 4, 5]"
      ]
     },
     "execution_count": 59,
     "metadata": {},
     "output_type": "execute_result"
    }
   ],
   "source": [
    "result"
   ]
  },
  {
   "cell_type": "markdown",
   "metadata": {},
   "source": [
    "Runtime: 28 ms, faster than 98.97% of Python3 online submissions for Spiral Matrix.\n",
    "Memory Usage: 14 MB, less than 8.70% of Python3 online submissions for Spiral Matrix."
   ]
  }
 ],
 "metadata": {
  "kernelspec": {
   "display_name": "Python 3",
   "language": "python",
   "name": "python3"
  },
  "language_info": {
   "codemirror_mode": {
    "name": "ipython",
    "version": 3
   },
   "file_extension": ".py",
   "mimetype": "text/x-python",
   "name": "python",
   "nbconvert_exporter": "python",
   "pygments_lexer": "ipython3",
   "version": "3.7.4"
  }
 },
 "nbformat": 4,
 "nbformat_minor": 2
}
