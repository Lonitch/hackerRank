{
 "cells": [
  {
   "cell_type": "markdown",
   "metadata": {},
   "source": [
    "Given an array X of positive integers, its elements are to be transformed by running the following operation on them as many times as required:\n",
    "\n",
    "    if X[i] > X[j] then X[i] = X[i] - X[j]\n",
    "\n",
    "When no more transformations are possible, return its sum (\"smallest possible sum\").\n",
    "\n",
    "For instance, the successive transformation of the elements of input `X = [6, 9, 21]` is detailed below:\n",
    "    \n",
    "    X_1 = [6, 9, 12] # -> X_1[2] = X[2] - X[1] = 21 - 9\n",
    "    X_2 = [6, 9, 6]  # -> X_2[2] = X_1[2] - X_1[0] = 12 - 6\n",
    "    X_3 = [6, 3, 6]  # -> X_3[1] = X_2[1] - X_2[0] = 9 - 6\n",
    "    X_4 = [6, 3, 3]  # -> X_4[2] = X_3[2] - X_3[1] = 6 - 3\n",
    "    X_5 = [3, 3, 3]  # -> X_5[1] = X_4[0] - X_4[1] = 6 - 3"
   ]
  },
  {
   "cell_type": "code",
   "execution_count": 19,
   "metadata": {},
   "outputs": [],
   "source": [
    "def solution(a):\n",
    "    def gcd(x,y): # We need to find the gcd of all the difference between elements.\n",
    "        if x==0:\n",
    "            return y\n",
    "        elif y==0:\n",
    "            return x\n",
    "        if x>y:\n",
    "            return gcd(y, x%y) # Euclid Algorithm\n",
    "        elif x==y:\n",
    "            return x\n",
    "        else:\n",
    "            return gcd(x, y%x)\n",
    "    a.sort()\n",
    "    n = len(a)\n",
    "    factor = a[0]\n",
    "    for i in range(1, n):\n",
    "        if a[i]!=a[i-1]:\n",
    "            temp = a[i]-a[i-1] #calculate difference\n",
    "            factor = min(factor, gcd(factor, temp)) # find gcd\n",
    "    return factor*n"
   ]
  },
  {
   "cell_type": "code",
   "execution_count": 20,
   "metadata": {},
   "outputs": [
    {
     "data": {
      "text/plain": [
       "90"
      ]
     },
     "execution_count": 20,
     "metadata": {},
     "output_type": "execute_result"
    }
   ],
   "source": [
    "t = [91809, 338724, 938961, 356409, 1625625, 142884, 69696, 202500, 1292769, 660969]\n",
    "solution(t)"
   ]
  },
  {
   "cell_type": "markdown",
   "metadata": {},
   "source": [
    "First we write any sorted array as:\n",
    "\n",
    "    [a0, a0+b1, a0+b1+b2, a0+b1+b2+b3,...]\n",
    "\n",
    "Second, we realize that the the operation of `X[i]-X[j]` is repetitive, if there is a gcd `g` among `bn` and `a0`,\n",
    "we can factorize elements in the array as:\n",
    "\n",
    "    [x0*g, x1*g,...]\n",
    "    \n",
    "The operator of `X[i]-X[j]` will keep going as long as the relationship of `x0=x1=x2=x3=....=1` is not built.\n",
    "Therefore, the operator only stop when all the elements in the array are exactly equal to `g`. The final result will\n",
    "simply be:\n",
    "\n",
    "    length of the array * g"
   ]
  }
 ],
 "metadata": {
  "kernelspec": {
   "display_name": "Python 3",
   "language": "python",
   "name": "python3"
  },
  "language_info": {
   "codemirror_mode": {
    "name": "ipython",
    "version": 3
   },
   "file_extension": ".py",
   "mimetype": "text/x-python",
   "name": "python",
   "nbconvert_exporter": "python",
   "pygments_lexer": "ipython3",
   "version": "3.7.4"
  }
 },
 "nbformat": 4,
 "nbformat_minor": 2
}
