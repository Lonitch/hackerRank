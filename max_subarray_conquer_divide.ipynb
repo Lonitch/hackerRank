{
 "cells": [
  {
   "cell_type": "markdown",
   "metadata": {},
   "source": [
    "You are given a one dimensional array that may contain both positive and negative integers, find the sum of contiguous subarray of numbers which has the largest sum.\n",
    "\n",
    "For example, if the given array is `[-2, -5, 6, -2, -3, 1, 5, -6]`, then the maximum subarray sum is 7 (6,-2,-3,1,5).\n",
    "\n",
    "Using Divide and Conquer approach, we can find the maximum subarray sum in O(nLogn) time. Following is the Divide and Conquer algorithm.\n",
    "\n",
    "1) Divide the given array in two halves\n",
    "2) Return the maximum of following three\n",
    "    a) Maximum subarray sum in left half (Make a recursive call)\n",
    "    b) Maximum subarray sum in right half (Make a recursive call)\n",
    "    c) Maximum subarray sum such that the subarray crosses the midpoint"
   ]
  },
  {
   "cell_type": "code",
   "execution_count": 16,
   "metadata": {},
   "outputs": [],
   "source": [
    "def crosSum(nums,l,m,r):\n",
    "    # Find the maximum sum of subarray which pass through the midpoint\n",
    "    max_right = -2**31\n",
    "    max_left = -2**31\n",
    "    sumval=0\n",
    "    for i in range(m+1,r+1):# From midpoint to the right\n",
    "        sumval+=nums[i]\n",
    "        max_right = max(max_right,sumval)\n",
    "    sumval=0\n",
    "    for j in range(m,l-1,-1): # From midpoint to the left, reverse the sequence!!!\n",
    "        sumval+=nums[j]\n",
    "        max_left = max(max_left,sumval)\n",
    "        \n",
    "    return max_right+max_left\n",
    "    \n",
    "def maxSubarrSum(nums,l=0,r=-1):\n",
    "    if r==-1:\n",
    "        r = len(nums)-1\n",
    "    if l==r:\n",
    "        return nums[l]\n",
    "    else:\n",
    "        m = l+(r-l)//2\n",
    "        return max(maxSubarrSum(nums,l,m),maxSubarrSum(nums,m+1,r), crosSum(nums,l,m,r))"
   ]
  },
  {
   "cell_type": "code",
   "execution_count": 17,
   "metadata": {},
   "outputs": [
    {
     "data": {
      "text/plain": [
       "7"
      ]
     },
     "execution_count": 17,
     "metadata": {},
     "output_type": "execute_result"
    }
   ],
   "source": [
    "maxSubarrSum([-2, -5, 6, -2, -3, 1, 5, -6])"
   ]
  },
  {
   "cell_type": "code",
   "execution_count": null,
   "metadata": {},
   "outputs": [],
   "source": []
  }
 ],
 "metadata": {
  "kernelspec": {
   "display_name": "Python 3",
   "language": "python",
   "name": "python3"
  },
  "language_info": {
   "codemirror_mode": {
    "name": "ipython",
    "version": 3
   },
   "file_extension": ".py",
   "mimetype": "text/x-python",
   "name": "python",
   "nbconvert_exporter": "python",
   "pygments_lexer": "ipython3",
   "version": "3.7.4"
  }
 },
 "nbformat": 4,
 "nbformat_minor": 2
}
