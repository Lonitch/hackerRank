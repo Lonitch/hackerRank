{
 "cells": [
  {
   "cell_type": "markdown",
   "metadata": {},
   "source": [
    "Given an array of integers arr, write a function that returns true if and only if the number of occurrences of each value in the array is unique.\n",
    "\n",
    "    Input: arr = [1,2,2,1,1,3]\n",
    "    Output: true\n",
    "    \n",
    "Explanation: The value 1 has 3 occurrences, 2 has 2 and 3 has 1. No two values have the same number of occurrences."
   ]
  },
  {
   "cell_type": "code",
   "execution_count": 1,
   "metadata": {},
   "outputs": [],
   "source": [
    "from collections import defaultdict\n",
    "\n",
    "def uniqueOccurrences(arr):\n",
    "    count = defaultdict(int)\n",
    "    for a_ in arr:\n",
    "        count[a_]+=1\n",
    "    x = len(list(count.values()))\n",
    "    y = len(set(count.values()))\n",
    "    if x==y:\n",
    "        return True\n",
    "    else:\n",
    "        return False"
   ]
  },
  {
   "cell_type": "code",
   "execution_count": 2,
   "metadata": {},
   "outputs": [
    {
     "data": {
      "text/plain": [
       "True"
      ]
     },
     "execution_count": 2,
     "metadata": {},
     "output_type": "execute_result"
    }
   ],
   "source": [
    "uniqueOccurrences([1,2,2,1,1,3])"
   ]
  },
  {
   "cell_type": "markdown",
   "metadata": {},
   "source": [
    "Runtime: 36 ms, faster than 97.17% of Python3 online submissions for Unique Number of Occurrences.\n",
    "\n",
    "Memory Usage: 12.9 MB, less than 100.00% of Python3 online submissions for Unique Number of Occurrences."
   ]
  }
 ],
 "metadata": {
  "kernelspec": {
   "display_name": "Python 3",
   "language": "python",
   "name": "python3"
  },
  "language_info": {
   "codemirror_mode": {
    "name": "ipython",
    "version": 3
   },
   "file_extension": ".py",
   "mimetype": "text/x-python",
   "name": "python",
   "nbconvert_exporter": "python",
   "pygments_lexer": "ipython3",
   "version": "3.7.4"
  }
 },
 "nbformat": 4,
 "nbformat_minor": 2
}
