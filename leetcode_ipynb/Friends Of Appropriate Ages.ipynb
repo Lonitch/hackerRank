{
 "cells": [
  {
   "cell_type": "markdown",
   "metadata": {},
   "source": [
    "Some people will make friend requests. The list of their ages is given and ages`[i]` is the age of the ith person. \n",
    "\n",
    "Person A will NOT friend request person B (B != A) if any of the following conditions are true:\n",
    "    \n",
    "    age[B] <= 0.5 * age[A] + 7\n",
    "    age[B] > age[A]\n",
    "    age[B] > 100 && age[A] < 100\n",
    "Otherwise, A will friend request B.\n",
    "\n",
    "Note that if A requests B, B does not necessarily request A.  Also, people will not friend request themselves.\n",
    "\n",
    "How many total friend requests are made?\n",
    "\n",
    "    Input: [20,30,100,110,120]\n",
    "    Output: 3\n",
    "    Explanation: Friend requests are made 110 -> 100, 120 -> 110, 120 -> 100."
   ]
  },
  {
   "cell_type": "code",
   "execution_count": 33,
   "metadata": {},
   "outputs": [
    {
     "data": {
      "text/plain": [
       "439"
      ]
     },
     "execution_count": 33,
     "metadata": {},
     "output_type": "execute_result"
    }
   ],
   "source": [
    "t=[98,60,24,89,84,51,61,96,108,87,68,29,14,11,13,50,13,104,\n",
    "   57,8,57,111,92,87,9,59,65,116,56,39,55,11,21,105,57,36,\n",
    "   48,93,20,94,35,68,64,41,37,11,50,47,8,9]\n",
    "# Brute force method\n",
    "def nfr(ages):\n",
    "    ages.sort()\n",
    "    ages = ages[::-1]\n",
    "    ans = 0\n",
    "    for i in range(len(ages)-1):\n",
    "        for j in range(i+1,len(ages)):\n",
    "            if ages[j]>ages[i]*0.5+7:\n",
    "                ans+=1\n",
    "                if ages[j]==ages[i]:\n",
    "                    ans+=1\n",
    "    return ans\n",
    "\n",
    "nfr(t)"
   ]
  },
  {
   "cell_type": "code",
   "execution_count": 89,
   "metadata": {},
   "outputs": [],
   "source": [
    "from collections import defaultdict\n",
    "def numFriendRequests(ages):\n",
    "    count = defaultdict(int)\n",
    "    ans = 0\n",
    "    for i in ages:\n",
    "        count[i]+=1\n",
    "    k = set(count.keys())\n",
    "    for x in k:\n",
    "        if x*0.5+7<x:\n",
    "            itsc = k.intersection(list(range(x//2+7+1, x)))\n",
    "            for y in itsc:\n",
    "                ans+=count[y]*count[x]\n",
    "            if count[x]>1:\n",
    "                ans+=count[x]*(count[x]-1)\n",
    "    return ans"
   ]
  },
  {
   "cell_type": "code",
   "execution_count": 90,
   "metadata": {
    "scrolled": true
   },
   "outputs": [
    {
     "data": {
      "text/plain": [
       "439"
      ]
     },
     "execution_count": 90,
     "metadata": {},
     "output_type": "execute_result"
    }
   ],
   "source": [
    "t = [98,60,24,89,84,51,61,96,108,87,68,29,14,11,13,50,13,104,\n",
    "   57,8,57,111,92,87,9,59,65,116,56,39,55,11,21,105,57,36,\n",
    "   48,93,20,94,35,68,64,41,37,11,50,47,8,9]\n",
    "numFriendRequests(t)"
   ]
  },
  {
   "cell_type": "markdown",
   "metadata": {},
   "source": [
    "Runtime: 292 ms, faster than 96.15% of Python3 online submissions for Friends Of Appropriate Ages.\n",
    "\n",
    "Memory Usage: 14.2 MB, less than 33.33% of Python3 online submissions for Friends Of Appropriate Ages."
   ]
  }
 ],
 "metadata": {
  "kernelspec": {
   "display_name": "Python 3",
   "language": "python",
   "name": "python3"
  },
  "language_info": {
   "codemirror_mode": {
    "name": "ipython",
    "version": 3
   },
   "file_extension": ".py",
   "mimetype": "text/x-python",
   "name": "python",
   "nbconvert_exporter": "python",
   "pygments_lexer": "ipython3",
   "version": "3.7.4"
  }
 },
 "nbformat": 4,
 "nbformat_minor": 2
}
