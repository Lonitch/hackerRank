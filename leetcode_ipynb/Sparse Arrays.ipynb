{
 "cells": [
  {
   "cell_type": "code",
   "execution_count": 12,
   "metadata": {},
   "outputs": [
    {
     "name": "stdout",
     "output_type": "stream",
     "text": [
      "[1, 0, 1]\n"
     ]
    }
   ],
   "source": [
    "import sys\n",
    "import os\n",
    "from collections import defaultdict\n",
    "\n",
    "# Complete the matchingStrings function below.\n",
    "def matchingStrings(strings, queries):\n",
    "    sdict=defaultdict(int)\n",
    "    ans = []\n",
    "    for s in strings:\n",
    "        sdict[s]+=1\n",
    "    for q in queries:\n",
    "        ans.append(sdict[q])\n",
    "    return ans\n",
    "\n",
    "if __name__ == '__main__':\n",
    "\n",
    "    strings = [\"def\", \"de\", \"fgh\"]\n",
    "\n",
    "    queries = [\"de\", \"lmn\", \"fgh\"]\n",
    "\n",
    "    res = matchingStrings(strings, queries)\n",
    "    print(res)"
   ]
  },
  {
   "cell_type": "code",
   "execution_count": 2,
   "metadata": {},
   "outputs": [
    {
     "name": "stdout",
     "output_type": "stream",
     "text": [
      "i=0,k=0\n",
      "i=1,k=1\n",
      "i=2,k=2\n"
     ]
    }
   ],
   "source": [
    "for i,k in enumerate(range(3)):\n",
    "    print(\"i={},k={}\".format(i,k))"
   ]
  },
  {
   "cell_type": "code",
   "execution_count": null,
   "metadata": {},
   "outputs": [],
   "source": []
  }
 ],
 "metadata": {
  "kernelspec": {
   "display_name": "Python 3",
   "language": "python",
   "name": "python3"
  },
  "language_info": {
   "codemirror_mode": {
    "name": "ipython",
    "version": 3
   },
   "file_extension": ".py",
   "mimetype": "text/x-python",
   "name": "python",
   "nbconvert_exporter": "python",
   "pygments_lexer": "ipython3",
   "version": "3.7.4"
  }
 },
 "nbformat": 4,
 "nbformat_minor": 2
}
