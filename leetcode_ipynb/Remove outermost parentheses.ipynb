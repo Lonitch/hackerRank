{
 "cells": [
  {
   "cell_type": "markdown",
   "metadata": {},
   "source": [
    "A valid parentheses string is either empty (\"\"), \"(\" + A + \")\", or A + B, where A and B are valid parentheses strings, and + represents string concatenation.  For example, \"\", \"()\", \"(())()\", and \"(()(()))\" are all valid parentheses strings.\n",
    "\n",
    "A valid parentheses string S is primitive if it is nonempty, and there does not exist a way to split it into S = A+B, with A and B nonempty valid parentheses strings.\n",
    "\n",
    "Given a valid parentheses string S, consider its primitive decomposition: S = P_1 + P_2 + ... + P_k, where P_i are primitive valid parentheses strings.\n",
    "\n",
    "Return S after removing the outermost parentheses of every primitive string in the primitive decomposition of S.\n",
    "\n",
    "    Example1\n",
    "    Input: \"(()())(())\"\n",
    "    Output: \"()()()\"\n",
    "    Explanation: \n",
    "    The input string is \"(()())(())\", with primitive decomposition \"(()())\" + \"(())\".\n",
    "    After removing outer parentheses of each part, this is \"()()\" + \"()\" = \"()()()\".\n",
    "    \n",
    "    Example2\n",
    "    Input: \"(()())(())(()(()))\"\n",
    "    Output: \"()()()()(())\"\n",
    "    Explanation: \n",
    "    The input string is \"(()())(())(()(()))\", with primitive decomposition \"(()())\" + \"(())\" + \"(()(()))\".\n",
    "    After removing outer parentheses of each part, this is \"()()\" + \"()\" + \"()(())\" = \"()()()()(())\"."
   ]
  },
  {
   "cell_type": "code",
   "execution_count": 6,
   "metadata": {},
   "outputs": [],
   "source": [
    "from collections import defaultdict\n",
    "\n",
    "def removeOuterParentheses(S):\n",
    "    ans = ''\n",
    "    pcount = defaultdict(int)\n",
    "    temp = ''\n",
    "    for i in range(len(S)):\n",
    "        pcount[S[i]]+=1\n",
    "        temp+=S[i]\n",
    "        if pcount['(']==pcount[')']:\n",
    "            ans+=temp[1:-1]\n",
    "            temp=''\n",
    "    return ans"
   ]
  },
  {
   "cell_type": "code",
   "execution_count": 7,
   "metadata": {},
   "outputs": [
    {
     "data": {
      "text/plain": [
       "'()()()()(())'"
      ]
     },
     "execution_count": 7,
     "metadata": {},
     "output_type": "execute_result"
    }
   ],
   "source": [
    "removeOuterParentheses(\"(()())(())(()(()))\")"
   ]
  },
  {
   "cell_type": "code",
   "execution_count": 8,
   "metadata": {},
   "outputs": [
    {
     "data": {
      "text/plain": [
       "'()()()'"
      ]
     },
     "execution_count": 8,
     "metadata": {},
     "output_type": "execute_result"
    }
   ],
   "source": [
    "removeOuterParentheses(\"(()())(())\")"
   ]
  },
  {
   "cell_type": "markdown",
   "metadata": {},
   "source": [
    "Runtime: 44 ms, faster than 75.87% of Python3 online submissions for Remove Outermost Parentheses.\n",
    "    \n",
    "Memory Usage: 13.7 MB, less than 5.56% of Python3 online submissions for Remove Outermost Parentheses."
   ]
  }
 ],
 "metadata": {
  "kernelspec": {
   "display_name": "Python 3",
   "language": "python",
   "name": "python3"
  },
  "language_info": {
   "codemirror_mode": {
    "name": "ipython",
    "version": 3
   },
   "file_extension": ".py",
   "mimetype": "text/x-python",
   "name": "python",
   "nbconvert_exporter": "python",
   "pygments_lexer": "ipython3",
   "version": "3.7.4"
  }
 },
 "nbformat": 4,
 "nbformat_minor": 2
}
