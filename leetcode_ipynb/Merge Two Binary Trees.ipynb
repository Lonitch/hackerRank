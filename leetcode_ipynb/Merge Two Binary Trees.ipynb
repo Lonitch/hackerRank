{
 "cells": [
  {
   "cell_type": "markdown",
   "metadata": {},
   "source": [
    "Given two binary trees and imagine that when you put one of them to cover the other, some nodes of the two trees are overlapped while the others are not.\n",
    "\n",
    "You need to merge them into a new binary tree. The merge rule is that if two nodes overlap, then sum node values up as the new value of the merged node. Otherwise, the NOT null node will be used as the node of new tree.\n",
    "\n",
    "    Input: \n",
    "        Tree 1                     Tree 2                  \n",
    "              1                         2                             \n",
    "             / \\                       / \\                            \n",
    "            3   2                     1   3                        \n",
    "           /                           \\   \\                      \n",
    "          5                             4   7                  \n",
    "    Output: \n",
    "    Merged tree:\n",
    "             3\n",
    "            / \\\n",
    "           4   5\n",
    "          / \\   \\ \n",
    "         5   4   7"
   ]
  },
  {
   "cell_type": "code",
   "execution_count": 1,
   "metadata": {},
   "outputs": [],
   "source": [
    "# Definition for a binary tree node.\n",
    "class TreeNode:\n",
    "    def __init__(self, x):\n",
    "        self.val = x\n",
    "        self.left = None\n",
    "        self.right = None\n",
    "        \n",
    "def mergeTrees(t1, t2):\n",
    "    if t1==None:\n",
    "        return t2\n",
    "    elif t2==None:\n",
    "        return t1\n",
    "\n",
    "    t1.val+=t2.val\n",
    "    t1.left = mergeTrees(t1.left, t2.left)\n",
    "    t1.right = mergeTrees(t1.right,t2.right)\n",
    "    return t1\n",
    "    return t1"
   ]
  },
  {
   "cell_type": "code",
   "execution_count": 2,
   "metadata": {},
   "outputs": [],
   "source": [
    "t = TreeNode(1)\n",
    "t.left = TreeNode(3)\n",
    "t.right = TreeNode(2)\n",
    "t.left.left = TreeNode(5)\n",
    "tt = TreeNode(2)\n",
    "tt.left = TreeNode(1)\n",
    "tt.right = TreeNode(3)\n",
    "tt.left.right=TreeNode(4)\n",
    "tt.right.right=TreeNode(7)\n",
    "a = mergeTrees(t,tt)"
   ]
  },
  {
   "cell_type": "code",
   "execution_count": 3,
   "metadata": {},
   "outputs": [
    {
     "data": {
      "text/plain": [
       "3"
      ]
     },
     "execution_count": 3,
     "metadata": {},
     "output_type": "execute_result"
    }
   ],
   "source": [
    "a.val"
   ]
  },
  {
   "cell_type": "code",
   "execution_count": 4,
   "metadata": {},
   "outputs": [
    {
     "data": {
      "text/plain": [
       "(4, 5)"
      ]
     },
     "execution_count": 4,
     "metadata": {},
     "output_type": "execute_result"
    }
   ],
   "source": [
    "a.left.val,a.right.val"
   ]
  },
  {
   "cell_type": "code",
   "execution_count": 5,
   "metadata": {},
   "outputs": [
    {
     "data": {
      "text/plain": [
       "(5, 4)"
      ]
     },
     "execution_count": 5,
     "metadata": {},
     "output_type": "execute_result"
    }
   ],
   "source": [
    "b = a.left\n",
    "b.left.val,b.right.val"
   ]
  },
  {
   "cell_type": "code",
   "execution_count": 6,
   "metadata": {},
   "outputs": [
    {
     "data": {
      "text/plain": [
       "(None, 7)"
      ]
     },
     "execution_count": 6,
     "metadata": {},
     "output_type": "execute_result"
    }
   ],
   "source": [
    "b = a.right\n",
    "b.left, b.right.val"
   ]
  },
  {
   "cell_type": "markdown",
   "metadata": {},
   "source": [
    "Runtime: 0 ms, faster than 100.00% of Java online submissions for Merge Two Binary Trees.\n",
    "    \n",
    "Memory Usage: 44.4 MB, less than 17.28% of Java online submissions for Merge Two Binary Trees."
   ]
  }
 ],
 "metadata": {
  "kernelspec": {
   "display_name": "Python 3",
   "language": "python",
   "name": "python3"
  },
  "language_info": {
   "codemirror_mode": {
    "name": "ipython",
    "version": 3
   },
   "file_extension": ".py",
   "mimetype": "text/x-python",
   "name": "python",
   "nbconvert_exporter": "python",
   "pygments_lexer": "ipython3",
   "version": "3.7.4"
  }
 },
 "nbformat": 4,
 "nbformat_minor": 2
}
