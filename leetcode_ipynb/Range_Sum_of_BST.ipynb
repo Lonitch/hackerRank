{
 "cells": [
  {
   "cell_type": "markdown",
   "metadata": {},
   "source": [
    "Given the root node of a binary search tree, return the sum of values of all nodes with value between L and R (inclusive).\n",
    "\n",
    "The binary search tree is guaranteed to have unique values.\n",
    "\n",
    "    Input: root = [10,5,15,3,7,null,18], L = 7, R = 15\n",
    "    Output: 32"
   ]
  },
  {
   "cell_type": "code",
   "execution_count": 5,
   "metadata": {},
   "outputs": [],
   "source": [
    "# Definition for a binary tree node.\n",
    "class Node:\n",
    "     def __init__(self, x):\n",
    "        self.val = x\n",
    "        self.left = None\n",
    "        self.right = None\n",
    "        \n",
    "# Prepare example\n",
    "nlst = [Node(10),Node(5),Node(15),Node(3),Node(7),Node(18)]\n",
    "nlst[0].left=nlst[1]\n",
    "nlst[0].right=nlst[2]\n",
    "nlst[1].left=nlst[3]\n",
    "nlst[1].right=nlst[4]\n",
    "nlst[2].right = nlst[-1]\n",
    "\n",
    "def rangeSumBST(root, L, R):\n",
    "    global nlst\n",
    "    if root==None:\n",
    "        return 0\n",
    "    if L<=root.val<=R:\n",
    "        return root.val+rangeSumBST(root.left, L, R)+rangeSumBST(root.right, L, R)\n",
    "    elif root.val<L:\n",
    "        return rangeSumBST(root.right, L, R)\n",
    "    else:\n",
    "        return rangeSumBST(root.left, L, R)"
   ]
  },
  {
   "cell_type": "code",
   "execution_count": 6,
   "metadata": {},
   "outputs": [
    {
     "data": {
      "text/plain": [
       "32"
      ]
     },
     "execution_count": 6,
     "metadata": {},
     "output_type": "execute_result"
    }
   ],
   "source": [
    "rangeSumBST(nlst[0], 7, 15)"
   ]
  },
  {
   "cell_type": "markdown",
   "metadata": {},
   "source": [
    "Runtime: 232 ms, faster than 74.34% of Python3 online submissions for Range Sum of BST.\n",
    "Memory Usage: 22.3 MB, less than 5.94% of Python3 online submissions for Range Sum of BST."
   ]
  }
 ],
 "metadata": {
  "kernelspec": {
   "display_name": "Python 3",
   "language": "python",
   "name": "python3"
  },
  "language_info": {
   "codemirror_mode": {
    "name": "ipython",
    "version": 3
   },
   "file_extension": ".py",
   "mimetype": "text/x-python",
   "name": "python",
   "nbconvert_exporter": "python",
   "pygments_lexer": "ipython3",
   "version": "3.7.4"
  }
 },
 "nbformat": 4,
 "nbformat_minor": 2
}
