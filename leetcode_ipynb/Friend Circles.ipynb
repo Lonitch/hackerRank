{
 "cells": [
  {
   "cell_type": "markdown",
   "metadata": {},
   "source": [
    " There are N students in a class. Some of them are friends, while some are not. Their friendship is transitive in nature. For example, if A is a direct friend of B, and B is a direct friend of C, then A is an indirect friend of C. And we defined a friend circle is a group of students who are direct or indirect friends.\n",
    "\n",
    "Given a N*N matrix M representing the friend relationship between students in the class. If `M[i][j]` = 1, then the ith and jth students are direct friends with each other, otherwise not. And you have to output the total number of friend circles among all the students.\n",
    "\n",
    "    Input: \n",
    "    [[1,1,0],\n",
    "     [1,1,0],\n",
    "     [0,0,1]]\n",
    "    Output: 2\n",
    "    Explanation:The 0th and 1st students are direct friends, so they are in a friend circle. \n",
    "    The 2nd student himself is in a friend circle. So return 2.\n",
    "    \n",
    "Note:\n",
    "\n",
    "    N is in range [1,200].\n",
    "    M[i][i] = 1 for all students.\n",
    "    If M[i][j] = 1, then M[j][i] = 1.\n"
   ]
  },
  {
   "cell_type": "code",
   "execution_count": 6,
   "metadata": {},
   "outputs": [],
   "source": [
    "# A classic disjoint set problem\n",
    "def find(a, link):\n",
    "    temp = a\n",
    "    while temp!=link[temp]:\n",
    "        temp = link[temp]\n",
    "    return temp\n",
    "\n",
    "def union(a,b,size,link):\n",
    "    l = find(a,link)\n",
    "    r = find(b,link)\n",
    "    if (size[l]<size[r]): \n",
    "        l,r=r,l\n",
    "    size[l]+=size[r]\n",
    "    link[r] = l\n",
    "\n",
    "def findCircleNum(M):\n",
    "    n = len(M)\n",
    "    link = list(range(n))\n",
    "    size = [1 for i in range(n)]\n",
    "    for i in range(0,n-1):\n",
    "        for j in range(i+1,n):\n",
    "            if M[i][j]==1:\n",
    "                union(i,j,size,link)\n",
    "    return sum([i_==j_ for i_, j_ in zip(link,list(range(n)))])\n",
    "    "
   ]
  },
  {
   "cell_type": "code",
   "execution_count": 7,
   "metadata": {},
   "outputs": [
    {
     "data": {
      "text/plain": [
       "2"
      ]
     },
     "execution_count": 7,
     "metadata": {},
     "output_type": "execute_result"
    }
   ],
   "source": [
    "t = [[1,1,0],\n",
    "     [1,1,0],\n",
    "     [0,0,1]]\n",
    "findCircleNum(t)"
   ]
  },
  {
   "cell_type": "markdown",
   "metadata": {},
   "source": [
    "Runtime: 204 ms, faster than 99.05% of Python3 online submissions for Friend Circles.\n",
    "    \n",
    "Memory Usage: 12.9 MB, less than 100.00% of Python3 online submissions for Friend Circles."
   ]
  }
 ],
 "metadata": {
  "kernelspec": {
   "display_name": "Python 3",
   "language": "python",
   "name": "python3"
  },
  "language_info": {
   "codemirror_mode": {
    "name": "ipython",
    "version": 3
   },
   "file_extension": ".py",
   "mimetype": "text/x-python",
   "name": "python",
   "nbconvert_exporter": "python",
   "pygments_lexer": "ipython3",
   "version": "3.7.4"
  }
 },
 "nbformat": 4,
 "nbformat_minor": 2
}
