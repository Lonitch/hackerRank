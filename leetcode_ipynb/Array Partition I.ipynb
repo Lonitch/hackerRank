{
 "cells": [
  {
   "cell_type": "markdown",
   "metadata": {},
   "source": [
    " Given an array of 2n integers, your task is to group these integers into n pairs of integer, say ($a_1, b_1$), ($a_2, b_2$), ..., ($a_n, b_n$) which makes sum of min(ai, bi) for all i from 1 to n as large as possible.\n",
    "\n",
    "    Example 1:\n",
    "\n",
    "    Input: [1,4,3,2]\n",
    "\n",
    "    Output: 4\n",
    "    Explanation: n is 2, and the maximum sum of pairs is 4 = min(1, 2) + min(3, 4)."
   ]
  },
  {
   "cell_type": "code",
   "execution_count": 5,
   "metadata": {},
   "outputs": [],
   "source": [
    "def arrayPairSum(nums):\n",
    "    nums.sort()\n",
    "    return sum(nums[::2])"
   ]
  },
  {
   "cell_type": "code",
   "execution_count": 6,
   "metadata": {},
   "outputs": [
    {
     "data": {
      "text/plain": [
       "4"
      ]
     },
     "execution_count": 6,
     "metadata": {},
     "output_type": "execute_result"
    }
   ],
   "source": [
    "arrayPairSum([1,4,3,2])"
   ]
  },
  {
   "cell_type": "markdown",
   "metadata": {},
   "source": [
    "Runtime: 292 ms, faster than 98.60% of Python3 online submissions for Array Partition I.\n",
    "    \n",
    "Memory Usage: 15.2 MB, less than 6.06% of Python3 online submissions for Array Partition I."
   ]
  }
 ],
 "metadata": {
  "kernelspec": {
   "display_name": "Python 3",
   "language": "python",
   "name": "python3"
  },
  "language_info": {
   "codemirror_mode": {
    "name": "ipython",
    "version": 3
   },
   "file_extension": ".py",
   "mimetype": "text/x-python",
   "name": "python",
   "nbconvert_exporter": "python",
   "pygments_lexer": "ipython3",
   "version": "3.7.4"
  }
 },
 "nbformat": 4,
 "nbformat_minor": 2
}
