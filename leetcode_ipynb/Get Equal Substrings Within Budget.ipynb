{
 "cells": [
  {
   "cell_type": "markdown",
   "metadata": {},
   "source": [
    "You are given two strings s and t of the same length. You want to change s to t. Changing the i-th character of s to i-th character of t costs `|s[i] - t[i]|` that is, the absolute difference between the ASCII values of the characters.\n",
    "\n",
    "You are also given an integer maxCost.\n",
    "\n",
    "Return the maximum length of a substring of s that can be changed to be the same as the corresponding substring of twith a cost less than or equal to maxCost.\n",
    "\n",
    "If there is no substring from s that can be changed to its corresponding substring from t, return 0.\n",
    "\n",
    "    Input: s = \"abcd\", t = \"bcdf\", maxCost = 3\n",
    "    Output: 3\n",
    "    Explanation: \"abc\" of s can change to \"bcd\". That costs 3, so the maximum length is 3."
   ]
  },
  {
   "cell_type": "code",
   "execution_count": 48,
   "metadata": {},
   "outputs": [],
   "source": [
    "def equalSubstring(s, t, maxCost):\n",
    "    n = len(s)\n",
    "    diff=[]\n",
    "    for a_,b_ in zip(s,t):\n",
    "        diff.append(abs(ord(a_)-ord(b_)))\n",
    "    \n",
    "    if maxCost>=sum(diff):\n",
    "        return n\n",
    "    if maxCost<min(diff):\n",
    "        return 0\n",
    "    if maxCost==min(diff):\n",
    "        return 1\n",
    "    \n",
    "    curr_sum = diff[0]\n",
    "    head = 0\n",
    "    ans = {1}\n",
    "    for i in range(1,n):\n",
    "        curr_sum+=diff[i]\n",
    "        while curr_sum>maxCost and head<i-1:\n",
    "            curr_sum-=diff[head]\n",
    "            head+=1\n",
    "            \n",
    "        if curr_sum<=maxCost:\n",
    "            ans.add(i-head+1)\n",
    "        print(\"{},{},{}\".format(i,head, curr_sum))\n",
    "        \n",
    "    print(diff)\n",
    "    print(ans)\n",
    "    return max(ans)"
   ]
  },
  {
   "cell_type": "code",
   "execution_count": 49,
   "metadata": {
    "scrolled": true
   },
   "outputs": [
    {
     "name": "stdout",
     "output_type": "stream",
     "text": [
      "1,0,9\n",
      "2,1,21\n",
      "3,2,26\n",
      "4,3,14\n",
      "5,4,12\n",
      "6,5,17\n",
      "7,6,23\n",
      "8,7,37\n",
      "9,8,32\n",
      "10,9,13\n",
      "11,10,10\n",
      "12,10,13\n",
      "13,11,14\n",
      "14,11,14\n",
      "[3, 6, 15, 11, 3, 9, 8, 15, 22, 10, 3, 7, 3, 4, 0]\n",
      "{1, 2, 3, 4}\n"
     ]
    },
    {
     "data": {
      "text/plain": [
       "4"
      ]
     },
     "execution_count": 49,
     "metadata": {},
     "output_type": "execute_result"
    }
   ],
   "source": [
    "equalSubstring(\"krpgjbjjznpzdfy\",\"nxargkbydxmsgby\", 14)"
   ]
  },
  {
   "cell_type": "code",
   "execution_count": 50,
   "metadata": {},
   "outputs": [
    {
     "name": "stdout",
     "output_type": "stream",
     "text": [
      "1,0,2\n",
      "2,0,3\n",
      "3,2,3\n",
      "[1, 1, 1, 2]\n",
      "{1, 2, 3}\n"
     ]
    },
    {
     "data": {
      "text/plain": [
       "3"
      ]
     },
     "execution_count": 50,
     "metadata": {},
     "output_type": "execute_result"
    }
   ],
   "source": [
    "equalSubstring(\"abcd\", \"bcdf\", 3)"
   ]
  },
  {
   "cell_type": "code",
   "execution_count": 51,
   "metadata": {},
   "outputs": [
    {
     "name": "stdout",
     "output_type": "stream",
     "text": [
      "1,0,4\n",
      "2,1,4\n",
      "3,2,4\n",
      "[2, 2, 2, 2]\n",
      "{1}\n"
     ]
    },
    {
     "data": {
      "text/plain": [
       "1"
      ]
     },
     "execution_count": 51,
     "metadata": {},
     "output_type": "execute_result"
    }
   ],
   "source": [
    "equalSubstring(s = \"abcd\", t = \"cdef\", maxCost = 3)"
   ]
  },
  {
   "cell_type": "code",
   "execution_count": 52,
   "metadata": {},
   "outputs": [
    {
     "data": {
      "text/plain": [
       "1"
      ]
     },
     "execution_count": 52,
     "metadata": {},
     "output_type": "execute_result"
    }
   ],
   "source": [
    "equalSubstring(s = \"abcd\", t = \"acde\", maxCost = 0)"
   ]
  },
  {
   "cell_type": "markdown",
   "metadata": {},
   "source": [
    "Runtime: 84 ms, faster than 87.24% of Python3 online submissions for Get Equal Substrings Within Budget.\n",
    "\n",
    "Memory Usage: 15.2 MB, less than 100.00% of Python3 online submissions for Get Equal Substrings Within Budget."
   ]
  }
 ],
 "metadata": {
  "kernelspec": {
   "display_name": "Python 3",
   "language": "python",
   "name": "python3"
  },
  "language_info": {
   "codemirror_mode": {
    "name": "ipython",
    "version": 3
   },
   "file_extension": ".py",
   "mimetype": "text/x-python",
   "name": "python",
   "nbconvert_exporter": "python",
   "pygments_lexer": "ipython3",
   "version": "3.7.4"
  }
 },
 "nbformat": 4,
 "nbformat_minor": 2
}
