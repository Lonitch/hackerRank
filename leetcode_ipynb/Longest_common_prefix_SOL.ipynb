{
 "cells": [
  {
   "cell_type": "markdown",
   "metadata": {},
   "source": [
    "**Another solution to the problem of longest common prefix on Leetcode, just for fun\n",
    "**Merge sort method is used here"
   ]
  },
  {
   "cell_type": "code",
   "execution_count": 14,
   "metadata": {},
   "outputs": [],
   "source": [
    "def compareTwo(s1, s2):\n",
    "    s=\"\"\n",
    "    for a_,b_ in zip(s1,s2):\n",
    "        if a_==b_:\n",
    "            s+=a_\n",
    "        else:\n",
    "            return s\n",
    "    return s\n",
    "    \n",
    "def divideArray(arr, low, high):\n",
    "    if low==high:\n",
    "        return arr[low]\n",
    "    if low<high:\n",
    "        mid = low + (high-low)//2\n",
    "        str1 = divideArray(arr, low, mid)\n",
    "        str2 = divideArray(arr, mid+1, high)\n",
    "        return compareTwo(str1, str2)\n",
    "\n",
    "def longestCommonPrefix(strs):\n",
    "    if not strs or \"\" in strs:\n",
    "        return \"\"\n",
    "    elif len(strs)==1:\n",
    "        return strs[0]\n",
    "    left = 0\n",
    "    right = len(strs)-1\n",
    "    \n",
    "    return divideArray(strs, left, right)"
   ]
  },
  {
   "cell_type": "code",
   "execution_count": 17,
   "metadata": {
    "scrolled": false
   },
   "outputs": [
    {
     "data": {
      "text/plain": [
       "'fl'"
      ]
     },
     "execution_count": 17,
     "metadata": {},
     "output_type": "execute_result"
    }
   ],
   "source": [
    "longestCommonPrefix([\"flower\",\"flight\",'flow'])"
   ]
  },
  {
   "cell_type": "code",
   "execution_count": null,
   "metadata": {},
   "outputs": [],
   "source": []
  }
 ],
 "metadata": {
  "kernelspec": {
   "display_name": "Python 3",
   "language": "python",
   "name": "python3"
  },
  "language_info": {
   "codemirror_mode": {
    "name": "ipython",
    "version": 3
   },
   "file_extension": ".py",
   "mimetype": "text/x-python",
   "name": "python",
   "nbconvert_exporter": "python",
   "pygments_lexer": "ipython3",
   "version": "3.7.4"
  }
 },
 "nbformat": 4,
 "nbformat_minor": 2
}
