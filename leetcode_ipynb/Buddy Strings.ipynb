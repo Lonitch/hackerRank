{
 "cells": [
  {
   "cell_type": "markdown",
   "metadata": {},
   "source": [
    "Given two strings A and B of lowercase letters, return true if and only if we can swap two letters in A so that the result equals B.\n",
    "\n",
    "    Input: A = \"ab\", B = \"ba\"\n",
    "    Output: true"
   ]
  },
  {
   "cell_type": "code",
   "execution_count": 5,
   "metadata": {},
   "outputs": [],
   "source": [
    "from collections import defaultdict\n",
    "def buddyStrings(A, B):\n",
    "    if len(A)!=len(B) or len(A)<2:\n",
    "        return False\n",
    "    diff = []\n",
    "    ac = defaultdict(int)\n",
    "    for a,b in zip(A,B):\n",
    "        ac[a]+=1\n",
    "        if a!=b:\n",
    "            diff.append(ord(a)-ord(b))\n",
    "            if len(diff)>2:\n",
    "                return False\n",
    "    if sum(diff)!=0:\n",
    "        return False\n",
    "    elif not diff: # Identical strings\n",
    "        if len(ac.values())>1 and min(ac.values())<2: # contains different characters but has an unique char\n",
    "                                                    #(no swap possible)\n",
    "            return False\n",
    "        else:\n",
    "            return True\n",
    "    else:\n",
    "        return True"
   ]
  },
  {
   "cell_type": "code",
   "execution_count": 7,
   "metadata": {},
   "outputs": [
    {
     "data": {
      "text/plain": [
       "True"
      ]
     },
     "execution_count": 7,
     "metadata": {},
     "output_type": "execute_result"
    }
   ],
   "source": [
    "buddyStrings('aa','aa')"
   ]
  },
  {
   "cell_type": "markdown",
   "metadata": {},
   "source": [
    "Runtime: 28 ms, faster than 99.33% of Python3 online submissions for Buddy Strings.\n",
    "\n",
    "Memory Usage: 12.8 MB, less than 100.00% of Python3 online submissions for Buddy Strings."
   ]
  }
 ],
 "metadata": {
  "kernelspec": {
   "display_name": "Python 3",
   "language": "python",
   "name": "python3"
  },
  "language_info": {
   "codemirror_mode": {
    "name": "ipython",
    "version": 3
   },
   "file_extension": ".py",
   "mimetype": "text/x-python",
   "name": "python",
   "nbconvert_exporter": "python",
   "pygments_lexer": "ipython3",
   "version": "3.7.4"
  }
 },
 "nbformat": 4,
 "nbformat_minor": 2
}
