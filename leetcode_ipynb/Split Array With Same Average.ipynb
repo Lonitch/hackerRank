{
 "cells": [
  {
   "cell_type": "markdown",
   "metadata": {},
   "source": [
    "In a given integer array A, we must move every element of A to either list B or list C. (B and C initially start empty.)\n",
    "\n",
    "Return true if and only if after such a move, it is possible that the average value of B is equal to the average value of C, and B and C are both non-empty.\n",
    "\n",
    "    Example :\n",
    "    Input: \n",
    "    [1,2,3,4,5,6,7,8]\n",
    "    Output: true\n",
    "    Explanation: We can split the array into [1,4,5,8] and [2,3,6,7], and both of them have the average of 4.5.\n"
   ]
  },
  {
   "cell_type": "code",
   "execution_count": 138,
   "metadata": {},
   "outputs": [],
   "source": [
    "# This is a dynamic programming problem\n",
    "# sum = sum1+sum2, where sum1=sum2\n",
    "# Let sum1 be the sum of k elements, where k<=n/2\n",
    "# Thus, sum1/k = sum2/(n-k)=sum/n. Therefore, sum*k%n must be zero\n",
    "from collections import defaultdict\n",
    "def splitArraySameAverage(A):\n",
    "    tot_sum = int(sum(A))\n",
    "    n = len(A)\n",
    "    # If none of the sums of n/2-combinations can not add up to the desired value,\n",
    "    # then we cannot split the array\n",
    "    if n<=1: return False\n",
    "    m=n//2\n",
    "    dp = defaultdict(set)\n",
    "    dp[0].add(0)\n",
    "    # The arrangement of this nested loops is important!\n",
    "    # Take some time to understand.\n",
    "    for p in A:\n",
    "        for i in range(m,0,-1):\n",
    "            for j in dp[i-1]:\n",
    "                dp[i].add(p+j)\n",
    "\n",
    "    for k in range(1, m+1):\n",
    "        if tot_sum*k%n==0 and tot_sum*k/n in dp[k]:\n",
    "            return True\n",
    "\n",
    "    return False\n",
    "        \n",
    "    "
   ]
  },
  {
   "cell_type": "code",
   "execution_count": 139,
   "metadata": {},
   "outputs": [
    {
     "data": {
      "text/plain": [
       "False"
      ]
     },
     "execution_count": 139,
     "metadata": {},
     "output_type": "execute_result"
    }
   ],
   "source": [
    "test = [2,12,18,16,19,3]\n",
    "splitArraySameAverage(test)"
   ]
  },
  {
   "cell_type": "markdown",
   "metadata": {},
   "source": [
    "Runtime: 552 ms, faster than 29.37% of Python3 online submissions for Split Array With Same Average.\n",
    "Memory Usage: 46.3 MB, less than 100.00% of Python3 online submissions for Split Array With Same Average."
   ]
  }
 ],
 "metadata": {
  "kernelspec": {
   "display_name": "Python 3",
   "language": "python",
   "name": "python3"
  },
  "language_info": {
   "codemirror_mode": {
    "name": "ipython",
    "version": 3
   },
   "file_extension": ".py",
   "mimetype": "text/x-python",
   "name": "python",
   "nbconvert_exporter": "python",
   "pygments_lexer": "ipython3",
   "version": "3.7.4"
  }
 },
 "nbformat": 4,
 "nbformat_minor": 2
}
