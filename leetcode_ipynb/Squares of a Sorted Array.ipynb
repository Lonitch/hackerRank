{
 "cells": [
  {
   "cell_type": "markdown",
   "metadata": {},
   "source": [
    "Given an array of integers `A` sorted in non-decreasing order, return an array of the squares of each number, also in sorted non-decreasing order.\n",
    "\n",
    "    Input: [-4,-1,0,3,10]\n",
    "    Output: [0,1,9,16,100]"
   ]
  },
  {
   "cell_type": "code",
   "execution_count": 24,
   "metadata": {},
   "outputs": [],
   "source": [
    "def sortedSquares(A):\n",
    "    pos = []\n",
    "    neg = []\n",
    "    for i in A:\n",
    "        if i<0:\n",
    "            neg.append(i**2)\n",
    "        else:\n",
    "            pos.append(i**2)\n",
    "    if not neg:\n",
    "        return pos\n",
    "    if not pos:\n",
    "        return neg[::-1]\n",
    "    \n",
    "    ans = []\n",
    "    while pos and neg:\n",
    "        if pos[0]<neg[-1]:\n",
    "            ans.append(pos[0])\n",
    "            pos=pos[1:]\n",
    "        else:\n",
    "            ans.append(neg.pop())\n",
    "    if neg:\n",
    "        return ans+neg[::-1]\n",
    "    else:\n",
    "        return ans+pos"
   ]
  },
  {
   "cell_type": "code",
   "execution_count": 25,
   "metadata": {},
   "outputs": [
    {
     "data": {
      "text/plain": [
       "[0, 1, 9, 16, 100]"
      ]
     },
     "execution_count": 25,
     "metadata": {},
     "output_type": "execute_result"
    }
   ],
   "source": [
    "t = [-4,-1,0,3,10]\n",
    "sortedSquares(t)"
   ]
  },
  {
   "cell_type": "markdown",
   "metadata": {},
   "source": [
    "Runtime: 776 ms, faster than 5.02% of Python3 online submissions for Squares of a Sorted Array.\n",
    "\n",
    "Memory Usage: 14.7 MB, less than 95.24% of Python3 online submissions for Squares of a Sorted Array."
   ]
  },
  {
   "cell_type": "code",
   "execution_count": 30,
   "metadata": {},
   "outputs": [
    {
     "data": {
      "text/plain": [
       "[0, 1, 9]"
      ]
     },
     "execution_count": 30,
     "metadata": {},
     "output_type": "execute_result"
    }
   ],
   "source": [
    "# The method above is too slow, let's try to solve it in one pass\n",
    "def sortedSquares(A):\n",
    "    pos = [i**2 for i in A].sort()\n",
    "    return pos\n",
    "\n",
    "tt=[i**2 for i in t]\n",
    "tt.sort()\n",
    "tt"
   ]
  },
  {
   "cell_type": "markdown",
   "metadata": {},
   "source": [
    "Runtime: 216 ms, faster than 99.92% of Python3 online submissions for Squares of a Sorted Array.\n",
    "\n",
    "Memory Usage: 14.6 MB, less than 97.62% of Python3 online submissions for Squares of a Sorted Array."
   ]
  }
 ],
 "metadata": {
  "kernelspec": {
   "display_name": "Python 3",
   "language": "python",
   "name": "python3"
  },
  "language_info": {
   "codemirror_mode": {
    "name": "ipython",
    "version": 3
   },
   "file_extension": ".py",
   "mimetype": "text/x-python",
   "name": "python",
   "nbconvert_exporter": "python",
   "pygments_lexer": "ipython3",
   "version": "3.7.4"
  }
 },
 "nbformat": 4,
 "nbformat_minor": 2
}
