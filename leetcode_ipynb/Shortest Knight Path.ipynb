{
 "cells": [
  {
   "cell_type": "markdown",
   "metadata": {},
   "source": [
    "### Shortest Knight Path\n",
    "\n",
    "Given two different positions on a chess board, find the least number of moves it would take a knight to get from one to the other. The positions will be passed as two arguments in algebraic notation. For example, `knight(\"a3\", \"b5\")` should return 1."
   ]
  },
  {
   "cell_type": "code",
   "execution_count": 28,
   "metadata": {},
   "outputs": [],
   "source": [
    "# This is a graph problem, try to solve it using dynamic programming\n",
    "from collections import defaultdict\n",
    "\n",
    "def knight(p1, p2):\n",
    "    # build adjacent matrix for p1\n",
    "    adj = defaultdict(set)\n",
    "    dist = 1\n",
    "    #encode p1\n",
    "    loc1 = (ord(p1[0])-96, int(p1[1]))\n",
    "    #encode p2\n",
    "    loc2 = (ord(p2[0])-96, int(p2[1]))\n",
    "    adj[0].add(loc1)\n",
    "    move = [[1,2],[1,-2],[-1, 2],[-1, -2],[2,1],[2,-1],[-2, 1],[-2,-1]]\n",
    "    for i in range(1,7): # Maximum number of knight movements on chess is 5, we use 7 here for safety\n",
    "        for p in adj[i-1]:\n",
    "            for m in move:\n",
    "                newx = p[0]+m[0]\n",
    "                newy = p[1]+m[1]\n",
    "                if 1<=newx<=8 and 1<=newy<=8:\n",
    "                    adj[i].add((newx, newy))\n",
    "                    if (newx, newy)==loc2:\n",
    "                        return i\n",
    "    return None"
   ]
  },
  {
   "cell_type": "code",
   "execution_count": 29,
   "metadata": {},
   "outputs": [
    {
     "name": "stdout",
     "output_type": "stream",
     "text": [
      "a1 to c1: expected 2, got 2\n",
      "a1 to f1: expected 3, got 3\n",
      "a1 to f3: expected 3, got 3\n",
      "a1 to f4: expected 4, got 4\n",
      "a1 to f7: expected 5, got 5\n"
     ]
    }
   ],
   "source": [
    "arr = [['a1', 'c1', 2], ['a1', 'f1', 3], ['a1', 'f3', 3], ['a1', 'f4', 4], ['a1', 'f7', 5]]\n",
    "for x in arr:\n",
    "    z = knight(x[0], x[1])\n",
    "    print(\"{} to {}: expected {}, got {}\".format(x[0], x[1], x[2], z))"
   ]
  },
  {
   "cell_type": "code",
   "execution_count": 79,
   "metadata": {},
   "outputs": [],
   "source": [
    "# We can also solve this by using BFS\n",
    "def knight2(p1, p2):\n",
    "    visited = [[False for i in range(8)]  \n",
    "                      for j in range(8)] \n",
    "    q = []\n",
    "    #encode p1\n",
    "    loc1 = [ord(p1[0])-97, int(p1[1])-1,0]\n",
    "    #encode p2\n",
    "    loc2 = [ord(p2[0])-97, int(p2[1])-1]\n",
    "    q.append(loc1)\n",
    "    move = [[1,2],[1,-2],[-1, 2],[-1, -2],[2,1],[2,-1],[-2, 1],[-2,-1]]\n",
    "    visited[loc1[0]][loc1[1]] = True\n",
    "    while q:\n",
    "        t = q[0]\n",
    "        q.pop(0)\n",
    "        for m in move:\n",
    "            x = t[0]+m[0]\n",
    "            y = t[1]+m[1]\n",
    "            \n",
    "            if 0<=x<8 and 0<=y<8:\n",
    "                \n",
    "                if not visited[x][y]:\n",
    "                    visited[x][y]=True\n",
    "                    if x==loc2[0] and y==loc2[1]:\n",
    "                        return t[2]+1\n",
    "                    q.append([x,y,t[2]+1])\n",
    "        \n",
    "    return None"
   ]
  },
  {
   "cell_type": "code",
   "execution_count": 80,
   "metadata": {},
   "outputs": [
    {
     "name": "stdout",
     "output_type": "stream",
     "text": [
      "a1 to c1: expected 2, got 2\n",
      "a1 to f1: expected 3, got 3\n",
      "a1 to f3: expected 3, got 3\n",
      "a1 to f4: expected 4, got 4\n",
      "a1 to f7: expected 5, got 5\n"
     ]
    }
   ],
   "source": [
    "arr = [['a1', 'c1', 2], ['a1', 'f1', 3], ['a1', 'f3', 3], ['a1', 'f4', 4], ['a1', 'f7', 5]]\n",
    "for x in arr:\n",
    "    z = knight2(x[0], x[1])\n",
    "    print(\"{} to {}: expected {}, got {}\".format(x[0], x[1], x[2], z))"
   ]
  }
 ],
 "metadata": {
  "kernelspec": {
   "display_name": "Python 3",
   "language": "python",
   "name": "python3"
  },
  "language_info": {
   "codemirror_mode": {
    "name": "ipython",
    "version": 3
   },
   "file_extension": ".py",
   "mimetype": "text/x-python",
   "name": "python",
   "nbconvert_exporter": "python",
   "pygments_lexer": "ipython3",
   "version": "3.7.4"
  }
 },
 "nbformat": 4,
 "nbformat_minor": 2
}
