{
 "cells": [
  {
   "cell_type": "markdown",
   "metadata": {},
   "source": [
    "The prime numbers are not regularly spaced. For example from 2 to 3 the gap is 1. From 3 to 5 the gap is 2. From 7 to 11 it is 4. Between 2 and 50 we have the following pairs of 2-gaps primes: 3-5, 5-7, 11-13, 17-19, 29-31, 41-43\n",
    "\n",
    "We will write a function gap with parameters:\n",
    "\n",
    "g (integer >= 2) which indicates the gap we are looking for\n",
    "\n",
    "m (integer > 2) which gives the start of the search (m inclusive)\n",
    "\n",
    "n (integer >= m) which gives the end of the search (n inclusive)\n",
    "\n",
    "In the example above gap(2, 3, 50) will return `[3, 5]` or (3, 5) or {3, 5} which is the first pair between 3 and 50 with a 2-gap.\n",
    "\n",
    "        gap(6,100,110) --> nil or {0, 0} : between 100 and 110 we have 101, 103, 107, 109 but 101-107is not a 6-gap\n",
    "        because there is 103in between and 103-109is not a 6-gap because there is 107 in between.\n",
    "\n",
    "So this function should return the first pair of two prime numbers spaced with a gap of g between the limits m, n if these numbers exist otherwise nil or null or None or Nothing (depending on the language). "
   ]
  },
  {
   "cell_type": "code",
   "execution_count": 12,
   "metadata": {},
   "outputs": [],
   "source": [
    "\n",
    "def gap(g, m, n):\n",
    "    def isPrime(x):\n",
    "        if x<=1:\n",
    "            return False\n",
    "        if 1<x<=3:\n",
    "            return True\n",
    "        if x%2==0 or x%3==0:\n",
    "            return False\n",
    "        max_d = int(x**0.5)\n",
    "        for f_ in range(5, max_d+1):\n",
    "            if x%f_==0:\n",
    "                return False\n",
    "        return True\n",
    "    \n",
    "    last = -g\n",
    "    \n",
    "    for a in range(m, n+1):\n",
    "        if isPrime(a):\n",
    "            if a-last==g:\n",
    "                return [last, a]\n",
    "            else:\n",
    "                last=a\n",
    "    return None"
   ]
  },
  {
   "cell_type": "code",
   "execution_count": 13,
   "metadata": {},
   "outputs": [
    {
     "data": {
      "text/plain": [
       "[359, 367]"
      ]
     },
     "execution_count": 13,
     "metadata": {},
     "output_type": "execute_result"
    }
   ],
   "source": [
    "gap(8,300,400)"
   ]
  },
  {
   "cell_type": "code",
   "execution_count": 16,
   "metadata": {},
   "outputs": [
    {
     "data": {
      "text/plain": [
       "[300149, 300151]"
      ]
     },
     "execution_count": 16,
     "metadata": {},
     "output_type": "execute_result"
    }
   ],
   "source": [
    "gap(2,300000,6000000)"
   ]
  }
 ],
 "metadata": {
  "kernelspec": {
   "display_name": "Python 3",
   "language": "python",
   "name": "python3"
  },
  "language_info": {
   "codemirror_mode": {
    "name": "ipython",
    "version": 3
   },
   "file_extension": ".py",
   "mimetype": "text/x-python",
   "name": "python",
   "nbconvert_exporter": "python",
   "pygments_lexer": "ipython3",
   "version": "3.7.4"
  }
 },
 "nbformat": 4,
 "nbformat_minor": 2
}
