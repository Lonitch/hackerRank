{
 "cells": [
  {
   "cell_type": "markdown",
   "metadata": {},
   "source": [
    "Given n, how many structurally unique BST's (binary search trees) that store values 1 ... n?\n",
    "\n",
    "    Input: 3\n",
    "    Output: 5\n",
    "    Explanation:\n",
    "    Given n = 3, there are a total of 5 unique BST's:\n",
    "\n",
    "       1         3     3      2      1\n",
    "        \\       /     /      / \\      \\\n",
    "         3     2     1      1   3      2\n",
    "        /     /       \\                 \\\n",
    "       2     1         2                 3\n",
    "       \n",
    "**Catalan number:\n",
    "$$\n",
    "C_{0}=1 \\text { and } C_{n+1}=\\sum_{i=0}^{n} C_{i} C_{n-i} \\text { for } n \\geq 0\n",
    "$$"
   ]
  },
  {
   "cell_type": "code",
   "execution_count": 3,
   "metadata": {},
   "outputs": [],
   "source": [
    "# The number of such BST is called Catalan number\n",
    "def numTrees(n):\n",
    "    if n <=1 : \n",
    "        return 1 \n",
    "    res = 0 \n",
    "    for i in range(n): \n",
    "        res += numTrees(i) * numTrees(n-i-1) \n",
    "\n",
    "    return res "
   ]
  },
  {
   "cell_type": "code",
   "execution_count": 6,
   "metadata": {},
   "outputs": [
    {
     "data": {
      "text/plain": [
       "5"
      ]
     },
     "execution_count": 6,
     "metadata": {},
     "output_type": "execute_result"
    }
   ],
   "source": [
    "numTrees(3)"
   ]
  },
  {
   "cell_type": "markdown",
   "metadata": {},
   "source": [
    "**This solution exceeds time limits, now try dynamic programming\n",
    "\n",
    "For all possible values of i, consider i as root, then `[1….i-1]` numbers will fall in the left subtree and `[i+1….n]` numbers will fall in the right subtree. So, add `(i-1)*(n-i)` to the answer. The summation of the products will be the answer to the number of unique BST. "
   ]
  },
  {
   "cell_type": "code",
   "execution_count": 17,
   "metadata": {},
   "outputs": [],
   "source": [
    "def numTrees(n):\n",
    "    dp = [0]*(n+1) # each element represents number of BST using elements with values of 1,2,3,...,i\n",
    "    dp[0]=1\n",
    "    dp[1]=1\n",
    "    for i in range(2,n+1):\n",
    "        for j in range(1,i+1):\n",
    "            dp[i]=dp[i]+dp[i-j]*dp[j-1] #apply the method described above, make sure j-1 starts from 0\n",
    "            \n",
    "    return dp[n]"
   ]
  },
  {
   "cell_type": "code",
   "execution_count": 18,
   "metadata": {},
   "outputs": [
    {
     "data": {
      "text/plain": [
       "5"
      ]
     },
     "execution_count": 18,
     "metadata": {},
     "output_type": "execute_result"
    }
   ],
   "source": [
    "numTrees(3)"
   ]
  },
  {
   "cell_type": "markdown",
   "metadata": {},
   "source": [
    "Runtime: 24 ms, faster than 98.34% of Python3 online submissions for Unique Binary Search Trees.\n",
    "\n",
    "Memory Usage: 12.7 MB, less than 100.00% of Python3 online submissions for Unique Binary Search Trees."
   ]
  }
 ],
 "metadata": {
  "kernelspec": {
   "display_name": "Python 3",
   "language": "python",
   "name": "python3"
  },
  "language_info": {
   "codemirror_mode": {
    "name": "ipython",
    "version": 3
   },
   "file_extension": ".py",
   "mimetype": "text/x-python",
   "name": "python",
   "nbconvert_exporter": "python",
   "pygments_lexer": "ipython3",
   "version": "3.7.4"
  }
 },
 "nbformat": 4,
 "nbformat_minor": 2
}
