{
 "cells": [
  {
   "cell_type": "markdown",
   "metadata": {},
   "source": [
    "Your objective is to complete a function createSpiral(N) that receives an integer N and returns an NxN two-dimensional array with numbers 1 through NxN represented as a clockwise spiral.\n",
    "\n",
    "Return an empty array if `N < 1` or `N` is not int / number\n",
    "\n",
    "Examples:\n",
    "\n",
    "`N = 3` \n",
    "Output: `[[1,2,3],[8,9,4],[7,6,5]]`"
   ]
  },
  {
   "cell_type": "code",
   "execution_count": 15,
   "metadata": {},
   "outputs": [],
   "source": [
    "def create_spiral(n):\n",
    "    if not isinstance(n, int) or n<1:\n",
    "        return []\n",
    "    lst = list(range(1,n**2+1))\n",
    "    ans = [[0 for x in range(n)] for y in range(n)]\n",
    "    ans[0] = lst[:n]\n",
    "    x = 0\n",
    "    y = n-1\n",
    "    direct = [[1,0],[0,-1],[-1,0],[0,1]]\n",
    "    r = n-1\n",
    "    c = n-1\n",
    "    d = 0\n",
    "    lid = n\n",
    "    while r>0 or c>0:\n",
    "        for i in range(c):\n",
    "            x+=direct[d%4][0]\n",
    "            y+=direct[d%4][1]\n",
    "            ans[x][y] = lst[lid]\n",
    "            lid+=1\n",
    "        c-=1\n",
    "        d+=1\n",
    "        for i in range(r):\n",
    "            x+=direct[d%4][0]\n",
    "            y+=direct[d%4][1]\n",
    "            ans[x][y] = lst[lid]\n",
    "            lid+=1\n",
    "        r-=1\n",
    "        d+=1\n",
    "    return ans"
   ]
  },
  {
   "cell_type": "code",
   "execution_count": 14,
   "metadata": {},
   "outputs": [
    {
     "data": {
      "text/plain": [
       "[[1, 2, 3, 4, 5, 6],\n",
       " [20, 21, 22, 23, 24, 7],\n",
       " [19, 32, 33, 34, 25, 8],\n",
       " [18, 31, 36, 35, 26, 9],\n",
       " [17, 30, 29, 28, 27, 10],\n",
       " [16, 15, 14, 13, 12, 11]]"
      ]
     },
     "execution_count": 14,
     "metadata": {},
     "output_type": "execute_result"
    }
   ],
   "source": [
    "create_spiral(6)"
   ]
  },
  {
   "cell_type": "code",
   "execution_count": 17,
   "metadata": {},
   "outputs": [
    {
     "data": {
      "text/plain": [
       "[]"
      ]
     },
     "execution_count": 17,
     "metadata": {},
     "output_type": "execute_result"
    }
   ],
   "source": [
    "create_spiral('a')"
   ]
  },
  {
   "cell_type": "code",
   "execution_count": 28,
   "metadata": {},
   "outputs": [],
   "source": [
    "# A more clever method\n",
    "def createSpiral(n):\n",
    "    if not isinstance(n, int): return []\n",
    "    d = iter(range(n ** 2))\n",
    "    a = r = [[[x, y] for y in range(n)] for x in range(n)]\n",
    "    while a:\n",
    "        for x, y in a[0]: r[x][y] = next(d) + 1\n",
    "        a = list(zip(*a[1:]))[::-1]\n",
    "        print(a)\n",
    "    return r"
   ]
  },
  {
   "cell_type": "code",
   "execution_count": 29,
   "metadata": {},
   "outputs": [
    {
     "name": "stdout",
     "output_type": "stream",
     "text": [
      "[([1, 2], [2, 2]), ([1, 1], [2, 1]), ([1, 0], [2, 0])]\n",
      "[([2, 1], [2, 0]), ([1, 1], [1, 0])]\n",
      "[([1, 0],), ([1, 1],)]\n",
      "[([1, 1],)]\n",
      "[]\n"
     ]
    }
   ],
   "source": [
    "t=createSpiral(3)"
   ]
  },
  {
   "cell_type": "code",
   "execution_count": 27,
   "metadata": {},
   "outputs": [
    {
     "data": {
      "text/plain": [
       "[[1, 2, 3], [8, 9, 4], [7, 6, 5]]"
      ]
     },
     "execution_count": 27,
     "metadata": {},
     "output_type": "execute_result"
    }
   ],
   "source": [
    "t"
   ]
  }
 ],
 "metadata": {
  "kernelspec": {
   "display_name": "Python 3",
   "language": "python",
   "name": "python3"
  },
  "language_info": {
   "codemirror_mode": {
    "name": "ipython",
    "version": 3
   },
   "file_extension": ".py",
   "mimetype": "text/x-python",
   "name": "python",
   "nbconvert_exporter": "python",
   "pygments_lexer": "ipython3",
   "version": "3.7.4"
  }
 },
 "nbformat": 4,
 "nbformat_minor": 2
}
